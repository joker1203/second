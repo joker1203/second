{
 "cells": [
  {
   "cell_type": "code",
   "execution_count": 1,
   "metadata": {},
   "outputs": [
    {
     "name": "stdout",
     "output_type": "stream",
     "text": [
      "加减乘除运算题。\n",
      "总共十道题，开始答题：\n",
      "\n",
      "8*11=\n",
      "3\n",
      "×\n",
      "\n",
      "16+16=\n",
      "4\n",
      "×\n",
      "\n",
      "10-1=\n",
      "9\n",
      "√\n",
      "\n",
      "10+16=\n",
      "26\n",
      "√\n",
      "\n",
      "10+5=\n",
      "15\n",
      "√\n",
      "\n",
      "15-14=\n",
      "1\n",
      "√\n",
      "\n",
      "18/16=\n",
      "3\n",
      "×\n",
      "\n",
      "11/9=\n",
      "2\n",
      "×\n",
      "\n",
      "12/19=\n",
      "4\n",
      "×\n",
      "\n",
      "9+6=\n",
      "15\n",
      "√\n",
      "\n",
      "共做对5道题\n"
     ]
    }
   ],
   "source": [
    "    import random\n",
    "    import operator\n",
    "    \n",
    "    i = 1  \n",
    "    m=0\n",
    "    print('加减乘除运算题。')\n",
    "    print('总共十道题，开始答题：')\n",
    "    print()\n",
    "    while i <= 10:\n",
    "        a = random.randint(0, 20)\n",
    "        symbol = '+-*/'\n",
    "        # 随机运算符\n",
    "        sym = random.choice(symbol)\n",
    "        b = random.randint(1, 20)\n",
    "        c = str(a) + sym + str(b)\n",
    "        print(c + \"=\")\n",
    "        # eval函数，执行一个字符串表达式，并返回表达式的值\n",
    "        c = eval(c)\n",
    "        user = int(input())\n",
    "        if (user == c):\n",
    "            print('√')\n",
    "            print()\n",
    "            m+=1\n",
    "        else:\n",
    "            print('×')\n",
    "            print()\n",
    "        i+=1\n",
    "    print('共做对' + str(m) + '道题')"
   ]
  },
  {
   "cell_type": "code",
   "execution_count": null,
   "metadata": {},
   "outputs": [],
   "source": []
  }
 ],
 "metadata": {
  "kernelspec": {
   "display_name": "Python 3",
   "language": "python",
   "name": "python3"
  },
  "language_info": {
   "codemirror_mode": {
    "name": "ipython",
    "version": 3
   },
   "file_extension": ".py",
   "mimetype": "text/x-python",
   "name": "python",
   "nbconvert_exporter": "python",
   "pygments_lexer": "ipython3",
   "version": "3.7.3"
  }
 },
 "nbformat": 4,
 "nbformat_minor": 2
}
