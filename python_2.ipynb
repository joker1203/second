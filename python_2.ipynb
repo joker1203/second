{
 "cells": [
  {
   "cell_type": "code",
   "execution_count": 2,
   "metadata": {},
   "outputs": [
    {
     "name": "stdout",
     "output_type": "stream",
     "text": [
      "请输入一个正整数：3\n",
      "3=10*3+1\n",
      "5=10/2\n",
      "5=16*3+1\n",
      "8=16/2\n",
      "4=8/2\n",
      "2=4/2\n",
      "1=2/2\n"
     ]
    }
   ],
   "source": [
    "n = int(input(\"请输入一个正整数：\"))\n",
    " \n",
    "while n != 1:\n",
    "    if n % 2 == 0:\n",
    "        k = n / 2\n",
    "        print(\"%d=%d/2\" %(k, n))\n",
    "        n = k\n",
    "    else:\n",
    "        l = n * 3 + 1\n",
    "        print(\"%d=%d*3+1\" %(n, l))\n",
    "        n=l"
   ]
  },
  {
   "cell_type": "code",
   "execution_count": null,
   "metadata": {},
   "outputs": [],
   "source": []
  }
 ],
 "metadata": {
  "kernelspec": {
   "display_name": "Python 3",
   "language": "python",
   "name": "python3"
  },
  "language_info": {
   "codemirror_mode": {
    "name": "ipython",
    "version": 3
   },
   "file_extension": ".py",
   "mimetype": "text/x-python",
   "name": "python",
   "nbconvert_exporter": "python",
   "pygments_lexer": "ipython3",
   "version": "3.7.3"
  }
 },
 "nbformat": 4,
 "nbformat_minor": 2
}
